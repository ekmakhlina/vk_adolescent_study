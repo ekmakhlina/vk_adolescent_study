{
 "cells": [
  {
   "cell_type": "code",
   "execution_count": null,
   "metadata": {},
   "outputs": [],
   "source": [
    "import vk_api\n",
    "import requests\n",
    "import pandas as pd\n",
    "import time\n",
    "import re\n",
    "import json\n",
    "from io import StringIO"
   ]
  },
  {
   "cell_type": "code",
   "execution_count": null,
   "metadata": {},
   "outputs": [],
   "source": [
    "CLIENT_ID = '7474646' #ID приложения\n",
    "link = 'https://oauth.vk.com/authorize?client_id=' + CLIENT_ID + '&scope=friends&response_type=token&v=5.103'\n",
    "link"
   ]
  },
  {
   "cell_type": "code",
   "execution_count": null,
   "metadata": {},
   "outputs": [],
   "source": [
    "base_url = \"https://api.vk.com/method/%s\"\n",
    "access_token = '4d59b687a2df8f008782581d7c549b655433eb99187372455c3fabe9567a4a3b74091fd30a2615b96750f' \n",
    "\n",
    "def call(url, params):\n",
    "    return requests.get(url, params=params)"
   ]
  },
  {
   "cell_type": "code",
   "execution_count": null,
   "metadata": {},
   "outputs": [],
   "source": [
    "schools_df = pd.read_csv('schools1.csv')\n",
    "schools_df.head()"
   ]
  },
  {
   "cell_type": "code",
   "execution_count": null,
   "metadata": {},
   "outputs": [],
   "source": [
    "schools_dict = {}\n",
    "#left = len(schools_df)\n",
    "\n",
    "for school in schools_df['Образовательное учреждение']:\n",
    "    school_is_found = True\n",
    "    params = {\n",
    "        'q': school,\n",
    "        'city_id': 1,\n",
    "        'count': 1,\n",
    "        'v': '5.103'\n",
    "    }\n",
    "            \n",
    "    params = dict(params, **{\n",
    "            \"access_token\": access_token\n",
    "        })\n",
    "    try:\n",
    "        vk_school = call(base_url % \"database.getSchools\", params).json()\n",
    "        check = vk_school['response']\n",
    "    except:\n",
    "        time.sleep(3) \n",
    "        vk_school = call(base_url % \"database.getSchools\", params).json()\n",
    "    #print(vk_school)\n",
    "    if vk_school['response']['count'] == 0:\n",
    "        #print(school)\n",
    "        number = re.findall('№[0-9]*', school, flags=0)\n",
    "        if len(number) == 0:\n",
    "            school_is_found = False\n",
    "            #print('School has no number')\n",
    "        else:\n",
    "            params['q'] = number[0]\n",
    "            try:\n",
    "                vk_school = call(base_url % \"database.getSchools\", params).json()\n",
    "                check = vk_school['response']\n",
    "            except:\n",
    "                time.sleep(3) \n",
    "                vk_school = call(base_url % \"database.getSchools\", params).json()\n",
    "            #print(vk_school)\n",
    "            if vk_school['response']['count'] == 0:\n",
    "                school_is_found = False\n",
    "    \n",
    "    if school_is_found:\n",
    "        schools_dict[school] = vk_school['response']['items'][0]['id']\n",
    "    \n",
    "    time.sleep(0.5) "
   ]
  }
 ],
 "metadata": {
  "kernelspec": {
   "display_name": "Python 3",
   "language": "python",
   "name": "python3"
  },
  "language_info": {
   "codemirror_mode": {
    "name": "ipython",
    "version": 3
   },
   "file_extension": ".py",
   "mimetype": "text/x-python",
   "name": "python",
   "nbconvert_exporter": "python",
   "pygments_lexer": "ipython3",
   "version": "3.7.3"
  }
 },
 "nbformat": 4,
 "nbformat_minor": 2
}

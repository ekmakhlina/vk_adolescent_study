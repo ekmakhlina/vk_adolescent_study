{
 "cells": [
  {
   "cell_type": "code",
   "execution_count": 46,
   "metadata": {},
   "outputs": [],
   "source": [
    "import json\n",
    "import pandas as pd\n",
    "from collections import OrderedDict"
   ]
  },
  {
   "cell_type": "code",
   "execution_count": 90,
   "metadata": {},
   "outputs": [],
   "source": [
    "#schools = [779, 802, 946, 1378, 1422, 3671, 4474, 12904, 26682, 53301]\n",
    "schools = [802, 946, 1378, 1422, 4474, 12904, 53301]"
   ]
  },
  {
   "cell_type": "code",
   "execution_count": 100,
   "metadata": {},
   "outputs": [
    {
     "data": {
      "text/plain": [
       "['all_posts802.json',\n",
       " 'all_posts946.json',\n",
       " 'all_posts1378.json',\n",
       " 'all_posts1422.json',\n",
       " 'all_posts4474.json',\n",
       " 'all_posts12904.json',\n",
       " 'all_posts53301.json']"
      ]
     },
     "execution_count": 100,
     "metadata": {},
     "output_type": "execute_result"
    }
   ],
   "source": [
    "#posts_files = ['all_posts12904.json', 'all_posts802.json']\n",
    "posts_files = ['all_posts' + str(s) + '.json' for s in schools]\n",
    "posts_files"
   ]
  },
  {
   "cell_type": "code",
   "execution_count": 108,
   "metadata": {},
   "outputs": [
    {
     "data": {
      "text/plain": [
       "['schoolers_final802.json',\n",
       " 'schoolers_final946.json',\n",
       " 'schoolers_final1378.json',\n",
       " 'schoolers_final1422.json',\n",
       " 'schoolers_final4474.json',\n",
       " 'schoolers_final12904.json',\n",
       " 'schoolers_final53301.json']"
      ]
     },
     "execution_count": 108,
     "metadata": {},
     "output_type": "execute_result"
    }
   ],
   "source": [
    "#schools_files = ['schoolers_final12904.json', 'schoolers_final802.json']\n",
    "schools_files = ['schoolers_final' + str(s) + '.json' for s in schools]\n",
    "schools_files"
   ]
  },
  {
   "cell_type": "code",
   "execution_count": 109,
   "metadata": {},
   "outputs": [],
   "source": [
    "birth_year = [i for i in range(1996, 2007)]\n",
    "sexes = [1, 2]"
   ]
  },
  {
   "cell_type": "code",
   "execution_count": 110,
   "metadata": {},
   "outputs": [],
   "source": [
    "users_table = {}\n",
    "for year in birth_year:\n",
    "    users_table[year] = {}\n",
    "    for sex in sexes:\n",
    "        users_table[year][sex] = []"
   ]
  },
  {
   "cell_type": "code",
   "execution_count": 111,
   "metadata": {},
   "outputs": [],
   "source": [
    "for sf in schools_files:\n",
    "    with open(sf, 'r') as f:\n",
    "        text = f.read()\n",
    "        one_school = json.loads(text)\n",
    "        for year in birth_year:\n",
    "            for sex in sexes:\n",
    "                users_table[year][sex] += one_school[str(year)][str(sex)]"
   ]
  },
  {
   "cell_type": "code",
   "execution_count": 112,
   "metadata": {},
   "outputs": [],
   "source": [
    "users_table_final = []\n",
    "for year in birth_year:\n",
    "    for sex in sexes:\n",
    "        for user_id in users_table[year][sex]:\n",
    "            users_table_final.append({\n",
    "                'user_id': user_id,\n",
    "                'sex': sex,\n",
    "                'year': year\n",
    "            })"
   ]
  },
  {
   "cell_type": "code",
   "execution_count": 113,
   "metadata": {},
   "outputs": [
    {
     "data": {
      "text/html": [
       "<div>\n",
       "<style scoped>\n",
       "    .dataframe tbody tr th:only-of-type {\n",
       "        vertical-align: middle;\n",
       "    }\n",
       "\n",
       "    .dataframe tbody tr th {\n",
       "        vertical-align: top;\n",
       "    }\n",
       "\n",
       "    .dataframe thead th {\n",
       "        text-align: right;\n",
       "    }\n",
       "</style>\n",
       "<table border=\"1\" class=\"dataframe\">\n",
       "  <thead>\n",
       "    <tr style=\"text-align: right;\">\n",
       "      <th></th>\n",
       "      <th>sex</th>\n",
       "      <th>user_id</th>\n",
       "      <th>year</th>\n",
       "    </tr>\n",
       "  </thead>\n",
       "  <tbody>\n",
       "    <tr>\n",
       "      <th>0</th>\n",
       "      <td>1</td>\n",
       "      <td>8581912</td>\n",
       "      <td>1996</td>\n",
       "    </tr>\n",
       "    <tr>\n",
       "      <th>1</th>\n",
       "      <td>1</td>\n",
       "      <td>104038820</td>\n",
       "      <td>1996</td>\n",
       "    </tr>\n",
       "    <tr>\n",
       "      <th>2</th>\n",
       "      <td>1</td>\n",
       "      <td>17955740</td>\n",
       "      <td>1996</td>\n",
       "    </tr>\n",
       "    <tr>\n",
       "      <th>3</th>\n",
       "      <td>1</td>\n",
       "      <td>28157790</td>\n",
       "      <td>1996</td>\n",
       "    </tr>\n",
       "    <tr>\n",
       "      <th>4</th>\n",
       "      <td>1</td>\n",
       "      <td>11651904</td>\n",
       "      <td>1996</td>\n",
       "    </tr>\n",
       "  </tbody>\n",
       "</table>\n",
       "</div>"
      ],
      "text/plain": [
       "   sex    user_id  year\n",
       "0    1    8581912  1996\n",
       "1    1  104038820  1996\n",
       "2    1   17955740  1996\n",
       "3    1   28157790  1996\n",
       "4    1   11651904  1996"
      ]
     },
     "execution_count": 113,
     "metadata": {},
     "output_type": "execute_result"
    }
   ],
   "source": [
    "df = pd.DataFrame(users_table_final)\n",
    "df.head()"
   ]
  },
  {
   "cell_type": "code",
   "execution_count": 114,
   "metadata": {},
   "outputs": [
    {
     "data": {
      "text/plain": [
       "16808"
      ]
     },
     "execution_count": 114,
     "metadata": {},
     "output_type": "execute_result"
    }
   ],
   "source": [
    "len(df)"
   ]
  },
  {
   "cell_type": "code",
   "execution_count": 115,
   "metadata": {},
   "outputs": [
    {
     "data": {
      "text/plain": [
       "16808"
      ]
     },
     "execution_count": 115,
     "metadata": {},
     "output_type": "execute_result"
    }
   ],
   "source": [
    "i = 0\n",
    "for year in birth_year:\n",
    "    for sex in sexes:\n",
    "        i += len(users_table[year][sex])\n",
    "i"
   ]
  },
  {
   "cell_type": "code",
   "execution_count": 116,
   "metadata": {},
   "outputs": [],
   "source": [
    "all_posts = {}\n",
    "for file in posts_files:\n",
    "    with open(file, 'r') as f:\n",
    "        text = f.read()\n",
    "        one_school_posts = json.loads(text)\n",
    "        for user_id in one_school_posts:\n",
    "            all_posts[user_id] = one_school_posts[user_id]"
   ]
  },
  {
   "cell_type": "code",
   "execution_count": 117,
   "metadata": {},
   "outputs": [
    {
     "data": {
      "text/plain": [
       "16706"
      ]
     },
     "execution_count": 117,
     "metadata": {},
     "output_type": "execute_result"
    }
   ],
   "source": [
    "len(all_posts)"
   ]
  },
  {
   "cell_type": "code",
   "execution_count": 118,
   "metadata": {},
   "outputs": [],
   "source": [
    "amount = {}\n",
    "for year in birth_year:\n",
    "    amount[year] = {}\n",
    "    for sex in sexes:\n",
    "        df_year = df[df['year']==year]\n",
    "        amount[year][sex] = len(df_year[df_year['sex']==sex])"
   ]
  },
  {
   "cell_type": "code",
   "execution_count": 119,
   "metadata": {},
   "outputs": [
    {
     "data": {
      "text/plain": [
       "{1996: {1: 816, 2: 873},\n",
       " 1997: {1: 759, 2: 811},\n",
       " 1998: {1: 877, 2: 909},\n",
       " 1999: {1: 922, 2: 1038},\n",
       " 2000: {1: 1151, 2: 1315},\n",
       " 2001: {1: 793, 2: 775},\n",
       " 2002: {1: 676, 2: 564},\n",
       " 2003: {1: 687, 2: 579},\n",
       " 2004: {1: 788, 2: 743},\n",
       " 2005: {1: 719, 2: 618},\n",
       " 2006: {1: 179, 2: 216}}"
      ]
     },
     "execution_count": 119,
     "metadata": {},
     "output_type": "execute_result"
    }
   ],
   "source": [
    "amount"
   ]
  },
  {
   "cell_type": "code",
   "execution_count": 59,
   "metadata": {},
   "outputs": [
    {
     "data": {
      "text/plain": [
       "{'text': '', 'date': 1590061452, 'attachments': ['photo']}"
      ]
     },
     "execution_count": 59,
     "metadata": {},
     "output_type": "execute_result"
    }
   ],
   "source": [
    "all_posts['539351306'][0]"
   ]
  },
  {
   "cell_type": "code",
   "execution_count": 18,
   "metadata": {},
   "outputs": [
    {
     "name": "stdout",
     "output_type": "stream",
     "text": [
      "dt_object = 2019-04-05 18:30:27\n",
      "type(dt_object) = <class 'datetime.datetime'>\n"
     ]
    }
   ],
   "source": [
    "from datetime import datetime\n",
    "\n",
    "timestamp = all_posts['539351306'][-1]['date']\n",
    "dt_object = datetime.fromtimestamp(timestamp)\n",
    "\n",
    "print(\"dt_object =\", dt_object)\n",
    "print(\"type(dt_object) =\", type(dt_object))"
   ]
  },
  {
   "cell_type": "code",
   "execution_count": 63,
   "metadata": {},
   "outputs": [
    {
     "data": {
      "text/plain": [
       "2019"
      ]
     },
     "execution_count": 63,
     "metadata": {},
     "output_type": "execute_result"
    }
   ],
   "source": [
    "from datetime import datetime"
   ]
  },
  {
   "cell_type": "code",
   "execution_count": 120,
   "metadata": {},
   "outputs": [],
   "source": [
    "all_posts_arr = []\n",
    "for user_id in all_posts:\n",
    "    if all_posts[user_id] == None:\n",
    "        continue\n",
    "    for post in all_posts[user_id]:\n",
    "        post_year = datetime.fromtimestamp(post['date']).year\n",
    "        author_age = post_year - df[df['user_id']==int(user_id)]['year'].values[0]\n",
    "        all_posts_arr.append(OrderedDict({\n",
    "            'user_id': user_id,\n",
    "            'date': datetime.fromtimestamp(post['date']).date(),\n",
    "            'author_age': author_age,\n",
    "            'sex': df[df['user_id']==int(user_id)]['sex'].values[0],\n",
    "            'text': post['text'],\n",
    "            'attachments': post['attachments']\n",
    "        }))"
   ]
  },
  {
   "cell_type": "code",
   "execution_count": 121,
   "metadata": {},
   "outputs": [
    {
     "data": {
      "text/html": [
       "<div>\n",
       "<style scoped>\n",
       "    .dataframe tbody tr th:only-of-type {\n",
       "        vertical-align: middle;\n",
       "    }\n",
       "\n",
       "    .dataframe tbody tr th {\n",
       "        vertical-align: top;\n",
       "    }\n",
       "\n",
       "    .dataframe thead th {\n",
       "        text-align: right;\n",
       "    }\n",
       "</style>\n",
       "<table border=\"1\" class=\"dataframe\">\n",
       "  <thead>\n",
       "    <tr style=\"text-align: right;\">\n",
       "      <th></th>\n",
       "      <th>user_id</th>\n",
       "      <th>date</th>\n",
       "      <th>author_age</th>\n",
       "      <th>sex</th>\n",
       "      <th>text</th>\n",
       "      <th>attachments</th>\n",
       "    </tr>\n",
       "  </thead>\n",
       "  <tbody>\n",
       "    <tr>\n",
       "      <th>0</th>\n",
       "      <td>548265990</td>\n",
       "      <td>2020-04-22</td>\n",
       "      <td>19</td>\n",
       "      <td>1</td>\n",
       "      <td>22.04.20</td>\n",
       "      <td>[photo, audio]</td>\n",
       "    </tr>\n",
       "    <tr>\n",
       "      <th>1</th>\n",
       "      <td>548265990</td>\n",
       "      <td>2020-03-26</td>\n",
       "      <td>19</td>\n",
       "      <td>1</td>\n",
       "      <td>🥞</td>\n",
       "      <td>[photo, audio]</td>\n",
       "    </tr>\n",
       "    <tr>\n",
       "      <th>2</th>\n",
       "      <td>548265990</td>\n",
       "      <td>2020-03-19</td>\n",
       "      <td>19</td>\n",
       "      <td>1</td>\n",
       "      <td>🃏</td>\n",
       "      <td>[photo, audio]</td>\n",
       "    </tr>\n",
       "    <tr>\n",
       "      <th>3</th>\n",
       "      <td>548265990</td>\n",
       "      <td>2020-02-17</td>\n",
       "      <td>19</td>\n",
       "      <td>1</td>\n",
       "      <td>GOOD MORNING TOKYO🧡</td>\n",
       "      <td>[photo, photo, audio]</td>\n",
       "    </tr>\n",
       "    <tr>\n",
       "      <th>4</th>\n",
       "      <td>548265990</td>\n",
       "      <td>2020-01-18</td>\n",
       "      <td>19</td>\n",
       "      <td>1</td>\n",
       "      <td>Самойлова Вика год назад</td>\n",
       "      <td>[audio]</td>\n",
       "    </tr>\n",
       "  </tbody>\n",
       "</table>\n",
       "</div>"
      ],
      "text/plain": [
       "     user_id        date  author_age  sex                      text  \\\n",
       "0  548265990  2020-04-22          19    1                  22.04.20   \n",
       "1  548265990  2020-03-26          19    1                         🥞   \n",
       "2  548265990  2020-03-19          19    1                         🃏   \n",
       "3  548265990  2020-02-17          19    1       GOOD MORNING TOKYO🧡   \n",
       "4  548265990  2020-01-18          19    1  Самойлова Вика год назад   \n",
       "\n",
       "             attachments  \n",
       "0         [photo, audio]  \n",
       "1         [photo, audio]  \n",
       "2         [photo, audio]  \n",
       "3  [photo, photo, audio]  \n",
       "4                [audio]  "
      ]
     },
     "execution_count": 121,
     "metadata": {},
     "output_type": "execute_result"
    }
   ],
   "source": [
    "all_posts_df = pd.DataFrame(all_posts_arr)\n",
    "all_posts_df.head()"
   ]
  },
  {
   "cell_type": "code",
   "execution_count": 122,
   "metadata": {},
   "outputs": [
    {
     "data": {
      "text/plain": [
       "147690"
      ]
     },
     "execution_count": 122,
     "metadata": {},
     "output_type": "execute_result"
    }
   ],
   "source": [
    "len(all_posts_df[all_posts_df['text']!=''])"
   ]
  },
  {
   "cell_type": "code",
   "execution_count": 123,
   "metadata": {},
   "outputs": [
    {
     "data": {
      "text/plain": [
       "446344"
      ]
     },
     "execution_count": 123,
     "metadata": {},
     "output_type": "execute_result"
    }
   ],
   "source": [
    "len(all_posts_df)"
   ]
  },
  {
   "cell_type": "code",
   "execution_count": 124,
   "metadata": {},
   "outputs": [
    {
     "data": {
      "text/plain": [
       "300358"
      ]
     },
     "execution_count": 124,
     "metadata": {},
     "output_type": "execute_result"
    }
   ],
   "source": [
    "len(all_posts_df[all_posts_df['author_age']<=18])"
   ]
  },
  {
   "cell_type": "code",
   "execution_count": 125,
   "metadata": {},
   "outputs": [
    {
     "data": {
      "text/plain": [
       "[12, 13, 14, 15, 16, 17, 18]"
      ]
     },
     "execution_count": 125,
     "metadata": {},
     "output_type": "execute_result"
    }
   ],
   "source": [
    "ages = [i for i in range(12, 19)]\n",
    "ages"
   ]
  },
  {
   "cell_type": "code",
   "execution_count": 126,
   "metadata": {},
   "outputs": [],
   "source": [
    "text_len_av = {}\n",
    "for age in ages:\n",
    "    text_len = 0\n",
    "    df_age = all_posts_df[all_posts_df['author_age']==age]\n",
    "    for text in df_age['text']:\n",
    "        text_len += len(text)\n",
    "    text_len_av[age] = text_len/len(df_age)"
   ]
  },
  {
   "cell_type": "code",
   "execution_count": 127,
   "metadata": {},
   "outputs": [
    {
     "data": {
      "text/plain": [
       "{12: 26.35746031746032,\n",
       " 13: 29.657044854881267,\n",
       " 14: 30.673691803790064,\n",
       " 15: 30.835909154339937,\n",
       " 16: 33.40142276422764,\n",
       " 17: 41.196138344737086,\n",
       " 18: 43.23188378167121}"
      ]
     },
     "execution_count": 127,
     "metadata": {},
     "output_type": "execute_result"
    }
   ],
   "source": [
    "text_len_av"
   ]
  },
  {
   "cell_type": "code",
   "execution_count": null,
   "metadata": {},
   "outputs": [],
   "source": [
    "#!pip install emoji"
   ]
  },
  {
   "cell_type": "code",
   "execution_count": 77,
   "metadata": {},
   "outputs": [],
   "source": [
    "from emoji import UNICODE_EMOJI\n",
    "\n",
    "def text_has_emoji(text):\n",
    "    for character in text:\n",
    "        if character in UNICODE_EMOJI:\n",
    "            return True\n",
    "    return False"
   ]
  },
  {
   "cell_type": "code",
   "execution_count": 128,
   "metadata": {},
   "outputs": [],
   "source": [
    "emoj_av = {}\n",
    "for age in ages:\n",
    "    emoj_av[age] = {}\n",
    "    df_age = all_posts_df[all_posts_df['author_age']==age]\n",
    "    for sex in sexes:\n",
    "        emoj_am = 0\n",
    "        df_age_sex = df_age[df_age['sex']==sex]\n",
    "        for text in df_age['text']:\n",
    "            if text_has_emoji(text):\n",
    "                emoj_am += 1\n",
    "        emoj_av[age][sex] = emoj_am/len(df_age_sex)"
   ]
  },
  {
   "cell_type": "code",
   "execution_count": 129,
   "metadata": {},
   "outputs": [
    {
     "data": {
      "text/plain": [
       "{12: {1: 0.0664612676056338, 2: 0.09066346442509757},\n",
       " 13: {1: 0.09980689094420164, 2: 0.10778180221710021},\n",
       " 14: {1: 0.11354293967336962, 2: 0.1262299806496768},\n",
       " 15: {1: 0.13784825534216932, 2: 0.14690833093110406},\n",
       " 16: {1: 0.13657523454844947, 2: 0.14033409375229966},\n",
       " 17: {1: 0.14960513691047309, 2: 0.15445574732350364},\n",
       " 18: {1: 0.16867200596014156, 2: 0.1768197438300531}}"
      ]
     },
     "execution_count": 129,
     "metadata": {},
     "output_type": "execute_result"
    }
   ],
   "source": [
    "emoj_av"
   ]
  },
  {
   "cell_type": "code",
   "execution_count": 80,
   "metadata": {},
   "outputs": [],
   "source": [
    "from nltk import word_tokenize"
   ]
  },
  {
   "cell_type": "code",
   "execution_count": 130,
   "metadata": {},
   "outputs": [],
   "source": [
    "voc_av = {}\n",
    "for age in ages:\n",
    "    voc_av[age] = {}\n",
    "    df_age = all_posts_df[all_posts_df['author_age']==age]\n",
    "    for sex in sexes:\n",
    "        voc_set = set()\n",
    "        df_age_sex = df_age[df_age['sex']==sex]\n",
    "        for text in df_age['text']:\n",
    "            text_tokens = word_tokenize(text)\n",
    "            voc_set.update(text_tokens)\n",
    "        voc_av[age][sex] = len(voc_set)/len(df_age_sex)"
   ]
  },
  {
   "cell_type": "code",
   "execution_count": 131,
   "metadata": {},
   "outputs": [
    {
     "data": {
      "text/plain": [
       "{12: {1: 2.3382482394366195, 2: 3.1897328129690785},\n",
       " 13: {1: 2.6203882508385, 2: 2.829766216661179},\n",
       " 14: {1: 1.9712994852423804, 2: 2.1915681995965253},\n",
       " 15: {1: 2.0644103327021908, 2: 2.2000936869414818},\n",
       " 16: {1: 2.3902098402922007, 2: 2.4559938185296932},\n",
       " 17: {1: 2.8507638940143183, 2: 2.9431935078294664},\n",
       " 18: {1: 2.917675544794189, 2: 3.0586144954701657}}"
      ]
     },
     "execution_count": 131,
     "metadata": {},
     "output_type": "execute_result"
    }
   ],
   "source": [
    "voc_av"
   ]
  },
  {
   "cell_type": "code",
   "execution_count": 132,
   "metadata": {},
   "outputs": [],
   "source": [
    "all_posts_df.to_csv('all_posts_df2602.csv')"
   ]
  },
  {
   "cell_type": "code",
   "execution_count": null,
   "metadata": {},
   "outputs": [],
   "source": []
  }
 ],
 "metadata": {
  "kernelspec": {
   "display_name": "Python 3",
   "language": "python",
   "name": "python3"
  },
  "language_info": {
   "codemirror_mode": {
    "name": "ipython",
    "version": 3
   },
   "file_extension": ".py",
   "mimetype": "text/x-python",
   "name": "python",
   "nbconvert_exporter": "python",
   "pygments_lexer": "ipython3",
   "version": "3.7.3"
  }
 },
 "nbformat": 4,
 "nbformat_minor": 2
}
